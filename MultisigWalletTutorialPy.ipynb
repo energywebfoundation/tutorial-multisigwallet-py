{
 "cells": [
  {
   "cell_type": "markdown",
   "metadata": {},
   "source": [
    "# Multisig Wallet tutorial and playground with Python & web3.py\n",
    "\n",
    "Tested on Energy Web Foundation's Tobalaba test network.\n",
    "\n",
    "Please make 3 test accounts with some test tokens for experimentation"
   ]
  },
  {
   "cell_type": "code",
   "execution_count": null,
   "metadata": {},
   "outputs": [],
   "source": [
    "import os\n",
    "import time\n",
    "import json\n",
    "import datetime\n",
    "\n",
    "from web3 import Web3\n",
    "import web3.utils.events as eventutils\n",
    "\n",
    "# address of wallet factory on the Tobalaba network\n",
    "# needed if you do not want to deploy wallet contracts yourself\n",
    "factoryWithDLAddress = Web3.toChecksumAddress(\"0x7d4ae47c29790f22f157982d84445fa8e2c6e178\")\n",
    "\n",
    "# folder with contract abis\n",
    "contractfolder = os.path.join(os.getcwd(), \"contracts\")\n",
    "\n",
    "# rpc address\n",
    "http_rpc = \"http://127.0.0.1:8545\"\n",
    "\n",
    "#reading abis\n",
    "with open(os.path.join(contractfolder, 'MultiSigWalletWithDailyLimitFactory.json')) as f:\n",
    "    factoryWithDLData = json.load(f)\n",
    "    factoryWithDLAbi = factoryWithDLData[\"abi\"]\n",
    "\n",
    "with open(os.path.join(contractfolder, 'MultiSigWalletWithDailyLimit.json')) as f:\n",
    "    walletWithDLData = json.load(f)\n",
    "    walletWithDLAbi = walletWithDLData[\"abi\"]\n",
    "\n",
    "ADDRESS_EMPTY = '0x0000000000000000000000000000000000000000'"
   ]
  },
  {
   "cell_type": "code",
   "execution_count": null,
   "metadata": {},
   "outputs": [],
   "source": [
    "# setting provider\n",
    "w3 = Web3(Web3.HTTPProvider(http_rpc))\n",
    "\n",
    "#set the default account to use and unlock it\n",
    "w3.eth.defaultAccount = w3.eth.accounts[0]\n",
    "#w3.personal.unlockAccount(w3.eth.defaultAccount, \"yourpassword\")"
   ]
  },
  {
   "cell_type": "markdown",
   "metadata": {},
   "source": [
    "### 0. Let's create the factory"
   ]
  },
  {
   "cell_type": "code",
   "execution_count": null,
   "metadata": {},
   "outputs": [],
   "source": [
    "factoryWithDailyLimit = w3.eth.contract(abi=factoryWithDLAbi, address=factoryWithDLAddress)"
   ]
  },
  {
   "cell_type": "markdown",
   "metadata": {},
   "source": [
    "### 1. Let's create a multisig wallet\n",
    "You need:\n",
    " - the owner account addresses\n",
    " - how many confirmations are needed to perform transactions\n",
    " - daily limit -> the amount that can be withrdrawn per day without the confirmation of others\n",
    "\n",
    "These setting can be later changed\n",
    "\n",
    "2 ways to create the wallet:\n",
    " 1. using the deployed wallet factory (simpler)\n",
    " 2. compiling and deploying the Wallet contract yourself\n",
    " \n",
    "The first method is demonstrated here"
   ]
  },
  {
   "cell_type": "markdown",
   "metadata": {},
   "source": [
    "##### Creation of the wallet"
   ]
  },
  {
   "cell_type": "code",
   "execution_count": null,
   "metadata": {},
   "outputs": [],
   "source": [
    "address1 = Web3.toChecksumAddress(w3.eth.accounts[0])\n",
    "address2 = Web3.toChecksumAddress(w3.eth.accounts[1])\n",
    "address3 = Web3.toChecksumAddress(w3.eth.accounts[2])\n",
    "\n",
    "requiredConfirmations = 2\n",
    "dailyLimit = 0\n",
    "\n",
    "txHash = factoryWithDailyLimit.functions.create([address1, address2, address3], requiredConfirmations, dailyLimit).transact()"
   ]
  },
  {
   "cell_type": "markdown",
   "metadata": {},
   "source": [
    "The factory emits a ```ContractInstantiation(address sender, address instantiation)``` event in case of a newly created wallet. We can get the wallet's address by accessing it.\n",
    "You can either read the event logs and parse the data from the transaction receipt, or set a filter for the event and scan for it. The first method is shown. Then the wallet contract is then instantiated using the address and its ABI."
   ]
  },
  {
   "cell_type": "code",
   "execution_count": null,
   "metadata": {},
   "outputs": [],
   "source": [
    "tx = w3.eth.getTransactionReceipt(txHash)\n",
    "instantiationEvent = factoryWithDailyLimit.events.ContractInstantiation()\n",
    "instEventLog = instantiationEvent.processReceipt(tx)\n",
    "\n",
    "my_wallet_address = instEventLog[0].args[\"instantiation\"]\n",
    "\n",
    "my_wallet = w3.eth.contract(abi=walletWithDLAbi, address=my_wallet_address)\n",
    "\n",
    "print(\"Your deployed wallet address is: \" + my_wallet_address)\n",
    "print(\"Owners are: \" + str(my_wallet.functions.getOwners().call()))\n",
    "print(\"Daily withdraw limit w/o confirmations: \" + str(my_wallet.functions.dailyLimit().call()) + \" wei\")\n",
    "print(\"Allowed withdraw for today w/o confirmations: \" + str(my_wallet.functions.calcMaxWithdraw().call())+ \" wei\")\n",
    "print(\"Required confirmations: \" + str(my_wallet.functions.required().call()))"
   ]
  },
  {
   "cell_type": "markdown",
   "metadata": {},
   "source": [
    "### 2. Let's send some play tokens to the wallet\n",
    "E.g. 2 ethers for playing around"
   ]
  },
  {
   "cell_type": "code",
   "execution_count": null,
   "metadata": {},
   "outputs": [],
   "source": [
    "w3.eth.sendTransaction({\"from\": w3.eth.accounts[0],\n",
    "                        \"to\": my_wallet_address,\n",
    "                        \"value\": w3.toWei(2, \"ether\")})"
   ]
  },
  {
   "cell_type": "markdown",
   "metadata": {},
   "source": [
    "### 3. Let's try to withdraw some money back to account 1\n",
    " 1. We submit a transaction invoking the ```submitTransaction(address destination, uint value, bytes data)```. ```value``` is where the transferrable 'money' goes in wei. More about the ```data``` field below in secton 5.\n",
    " 2. We need to get the transaction ID: the wallet emits a ```Submission(uint indexed transactionId)``` event in case of  successful submission. We can read it out from the receipt."
   ]
  },
  {
   "cell_type": "code",
   "execution_count": null,
   "metadata": {},
   "outputs": [],
   "source": [
    "txHash = my_wallet.functions.submitTransaction(address1, w3.toWei(1, \"ether\"), bytes(0)).transact({\"from\": address1})\n",
    "tx = w3.eth.getTransactionReceipt(txHash)\n",
    "submissionEvent = my_wallet.events.Submission()\n",
    "subEventLog = submissionEvent.processReceipt(tx)\n",
    "transactionId = subEventLog[0].args['transactionId']\n",
    "\n",
    "print(\"Transaction id: \"+ str(transactionId))"
   ]
  },
  {
   "cell_type": "markdown",
   "metadata": {},
   "source": [
    "#### 3.1 Let's check out the state of our submission"
   ]
  },
  {
   "cell_type": "code",
   "execution_count": null,
   "metadata": {},
   "outputs": [],
   "source": [
    "print(\"Transaction count: \" + str(my_wallet.functions.transactionCount().call()))\n",
    "print(\"Our transaction [destination/value/data/executed]: \" + str(my_wallet.functions.transactions(transactionId).call()))\n",
    "print(\"Confirmed by {}: {}\".format(address1, my_wallet.functions.confirmations(transactionId, address1).call()))\n",
    "print(\"Confirmed by {}: {}\".format(address2, my_wallet.functions.confirmations(transactionId, address2).call()))\n",
    "print(\"Confirmed by {}: {}\".format(address3, my_wallet.functions.confirmations(transactionId, address3).call()))"
   ]
  },
  {
   "cell_type": "markdown",
   "metadata": {},
   "source": [
    "#### 3.2 You can check that as long as the submission is not confirmed by at least another owner, you cannot send it"
   ]
  },
  {
   "cell_type": "code",
   "execution_count": null,
   "metadata": {},
   "outputs": [],
   "source": [
    "my_wallet.functions.executeTransaction(transactionId).transact({\"from\": address1, \"gas\": 800000})\n",
    "time.sleep(5)\n",
    "print(\"Our transaction [destination/value/data/executed]: \" + str(my_wallet.functions.transactions(transactionId).call()))"
   ]
  },
  {
   "cell_type": "markdown",
   "metadata": {},
   "source": [
    "### 4. Confirm the transaction with other owners\n",
    " - ```confirmTransaction(uint transactionId)```\n",
    " - needs the transaction ID, and the sender needs to be the owner who confirms\n",
    " - a confirmed transaction can be executed by ``` executeTransaction(transactionId)```\n",
    " - ``` executeTransaction(transactionId)``` is automatically triggered if the number of confirmations reach the required with this last ```confirmTransaction``` and all conditions are met\n"
   ]
  },
  {
   "cell_type": "code",
   "execution_count": null,
   "metadata": {},
   "outputs": [],
   "source": [
    "my_wallet.functions.confirmTransaction(transactionId).transact({\"from\": address2, \"gas\": 800000})"
   ]
  },
  {
   "cell_type": "code",
   "execution_count": null,
   "metadata": {},
   "outputs": [],
   "source": [
    "print(\"Our transaction [destination/value/data/executed]: \" + str(my_wallet.functions.transactions(transactionId).call()))"
   ]
  },
  {
   "cell_type": "markdown",
   "metadata": {},
   "source": [
    "You can see that the transaction status is executed and the money appears on you destination account."
   ]
  },
  {
   "cell_type": "markdown",
   "metadata": {},
   "source": [
    "### 5. Change daily limit \n",
    "You cannot calll the wallet's changeDailyLimit function directly, it needs to be a confirmed transaction. You can change the daily limit, owners and required confirmation as well, with the consent of the owners."
   ]
  },
  {
   "cell_type": "markdown",
   "metadata": {},
   "source": [
    "#### How to invoke Smart Contract methods using your Multisig Wallet\n",
    "\n",
    "If you look at the function signature ```submitTransaction(address destination, uint value, bytes data)``` you notice a ```bytes data``` field. It is used to invoke functionalities of a contract and can be left empty or bytes(0) for regular value transfers. Remember that invoking SC functions is just a regular transaction containing the relevant calldata. Calldata is obtained by encoding the desired function's signature and its parameters, but fortunately web3 libraries already do the heavy lifting for you, so no need to do this manually. The recipient address needs to be the address of the Smart Contract whose method you want to invoke.\n",
    "\n",
    "In this case we want to invoke the ```changeDailyLimit``` function of our wallet Smart Contract. We need the ABI to encode the calldata easily."
   ]
  },
  {
   "cell_type": "code",
   "execution_count": null,
   "metadata": {},
   "outputs": [],
   "source": [
    "call_data = my_wallet.encodeABI(fn_name='changeDailyLimit', args=[w3.toWei(1, \"ether\")])\n",
    "txHash=my_wallet.functions.submitTransaction(my_wallet_address, 0, w3.toBytes(hexstr=call_data)).transact({\"from\": address1})"
   ]
  },
  {
   "cell_type": "markdown",
   "metadata": {},
   "source": [
    "After this points everything goes as with any other transaction from our wallet"
   ]
  },
  {
   "cell_type": "code",
   "execution_count": null,
   "metadata": {},
   "outputs": [],
   "source": [
    "tx = w3.eth.getTransactionReceipt(txHash)\n",
    "submissionEvent = my_wallet.events.Submission()\n",
    "subEventLog = submissionEvent.processReceipt(tx)\n",
    "transactionId = subEventLog[0].args['transactionId']\n",
    "\n",
    "print(\"Transaction id: \"+ str(transactionId))"
   ]
  },
  {
   "cell_type": "markdown",
   "metadata": {},
   "source": [
    "We confirm it with another account as well, which triggers the transaction"
   ]
  },
  {
   "cell_type": "code",
   "execution_count": null,
   "metadata": {},
   "outputs": [],
   "source": [
    "my_wallet.functions.confirmTransaction(transactionId).transact({\"from\": address2, \"gas\": 800000})\n",
    "time.sleep(7)\n",
    "if(my_wallet.functions.transactions(transactionId).call()[3] == True):\n",
    "    print(\"transaction {} is executed\".format(transactionId))\n",
    "    print(\"Daily withdraw limit w/o confirmations: \" + str(my_wallet.functions.dailyLimit().call()) + \" wei\")\n",
    "else:\n",
    "    print(\"transaction {} is not executed\".format(transactionId))"
   ]
  },
  {
   "cell_type": "markdown",
   "metadata": {},
   "source": [
    "You should see that the daily limit has changed"
   ]
  },
  {
   "cell_type": "markdown",
   "metadata": {},
   "source": [
    "### 6. Withdraw some ether w/o confirmation\n",
    "##### Now that the daily limit is changed, it is time to test it. Calldata is 0."
   ]
  },
  {
   "cell_type": "code",
   "execution_count": null,
   "metadata": {},
   "outputs": [],
   "source": [
    "txHash = my_wallet.functions.submitTransaction(address1, w3.toWei(0.7, \"ether\"), bytes(0)).transact({\"from\": address1})\n",
    "\n",
    "tx = w3.eth.getTransactionReceipt(txHash)\n",
    "submissionEvent = my_wallet.events.Submission()\n",
    "subEventLog = submissionEvent.processReceipt(tx)\n",
    "transactionId = subEventLog[0].args['transactionId']\n",
    "\n",
    "print(\"Transaction id: \"+ str(transactionId))"
   ]
  },
  {
   "cell_type": "code",
   "execution_count": null,
   "metadata": {},
   "outputs": [],
   "source": [
    "print(\"Transaction count: \" + str(my_wallet.functions.transactionCount().call()))\n",
    "print(\"Our transaction [destination/value/data/executed]: \" + str(my_wallet.functions.transactions(transactionId).call()))\n",
    "print(\"Confirmed by {}: {}\".format(address1, my_wallet.functions.confirmations(transactionId, address1).call()))\n",
    "print(\"Confirmed by {}: {}\".format(address2, my_wallet.functions.confirmations(transactionId, address2).call()))\n",
    "print(\"Confirmed by {}: {}\".format(address3, my_wallet.functions.confirmations(transactionId, address3).call()))"
   ]
  },
  {
   "cell_type": "markdown",
   "metadata": {},
   "source": [
    "##### You can see that the transaction is executed, but only 1 account confirmed it. Let's check the remaining daily quota.\n",
    "The daily quota is calculated for \"today\" by comparing the current time to a unix timestamp called ```lastDay```. If the curent moment is past ```lastDay + 24 hours``` then the daily quota resets. The lastDay timestamp is initially zero and is first set in the contract when we try to make a withdrawal."
   ]
  },
  {
   "cell_type": "code",
   "execution_count": null,
   "metadata": {},
   "outputs": [],
   "source": [
    "print(\"Daily withdraw limit w/o confirmations: \" + str(my_wallet.functions.dailyLimit().call()) + \" wei\")\n",
    "print(\"Allowed withdraw for today w/o confirmations: \" + str(my_wallet.functions.calcMaxWithdraw().call())+ \" wei\")\n",
    "last_day = my_wallet.functions.lastDay().call()\n",
    "print(\"Last day: {} - {}\".format(last_day, datetime.datetime.fromtimestamp(int(last_day))))"
   ]
  },
  {
   "cell_type": "markdown",
   "metadata": {},
   "source": [
    "### 7. Let's remove an owner\n",
    "Steps are very similar to changing the daily limit. You can manage ownership with```removeOwner(address owner)``` and```replaceOwner(address owner, address newOwner)``` methods, and change the confirmations needed with ```changeRequirement(uint _required)```.\n",
    "\n",
    "I remove owner n3 in this example"
   ]
  },
  {
   "cell_type": "code",
   "execution_count": null,
   "metadata": {},
   "outputs": [],
   "source": [
    "call_data = my_wallet.encodeABI(fn_name='removeOwner', args=[address3])\n",
    "txHash=my_wallet.functions.submitTransaction(my_wallet_address, 0, w3.toBytes(hexstr=call_data)).transact({\"from\": address1})"
   ]
  },
  {
   "cell_type": "code",
   "execution_count": null,
   "metadata": {},
   "outputs": [],
   "source": [
    "tx = w3.eth.getTransactionReceipt(txHash)\n",
    "submissionEvent = my_wallet.events.Submission()\n",
    "subEventLog = submissionEvent.processReceipt(tx)\n",
    "transactionId = subEventLog[0].args['transactionId']\n",
    "\n",
    "print(\"Transaction id: \"+ str(transactionId))"
   ]
  },
  {
   "cell_type": "code",
   "execution_count": null,
   "metadata": {},
   "outputs": [],
   "source": [
    "my_wallet.functions.confirmTransaction(transactionId).transact({\"from\": address2, \"gas\": 800000})\n",
    "time.sleep(7)\n",
    "if(my_wallet.functions.transactions(transactionId).call()[3] == True):\n",
    "    print(\"transaction {} is executed\".format(transactionId))\n",
    "    print(\"Owners are: \" + str(my_wallet.functions.getOwners().call()))\n",
    "else:\n",
    "    print(\"transaction {} is not executed\".format(transactionId))"
   ]
  },
  {
   "cell_type": "markdown",
   "metadata": {},
   "source": [
    "##### You should see the chosen owner disappeared from the list"
   ]
  },
  {
   "cell_type": "markdown",
   "metadata": {},
   "source": [
    "### 8. Your experiments here\n",
    "Feel free to play around with your Multisig wallet"
   ]
  },
  {
   "cell_type": "code",
   "execution_count": null,
   "metadata": {},
   "outputs": [],
   "source": []
  }
 ],
 "metadata": {
  "kernelspec": {
   "display_name": "Python 3",
   "language": "python",
   "name": "python3"
  },
  "language_info": {
   "codemirror_mode": {
    "name": "ipython",
    "version": 3
   },
   "file_extension": ".py",
   "mimetype": "text/x-python",
   "name": "python",
   "nbconvert_exporter": "python",
   "pygments_lexer": "ipython3",
   "version": "3.6.6"
  }
 },
 "nbformat": 4,
 "nbformat_minor": 2
}
